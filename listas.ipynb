{
 "metadata": {
  "language_info": {
   "codemirror_mode": {
    "name": "ipython",
    "version": 3
   },
   "file_extension": ".py",
   "mimetype": "text/x-python",
   "name": "python",
   "nbconvert_exporter": "python",
   "pygments_lexer": "ipython3",
   "version": "3.8.5-final"
  },
  "orig_nbformat": 2,
  "kernelspec": {
   "name": "python3",
   "display_name": "Python 3",
   "language": "python"
  }
 },
 "nbformat": 4,
 "nbformat_minor": 2,
 "cells": [
  {
   "source": [
    "ESTE ARCHIVO ES CREADO POR DUVAN GAMBOA\n"
   ],
   "cell_type": "markdown",
   "metadata": {}
  },
  {
   "source": [
    "EJE1\n",
    " Hallar el mayor y menor en una lista de tamaño n.\n",
    "\n"
   ],
   "cell_type": "markdown",
   "metadata": {}
  },
  {
   "cell_type": "code",
   "execution_count": 5,
   "metadata": {},
   "outputs": [
    {
     "output_type": "stream",
     "name": "stdout",
     "text": [
      "Numeros ingresados son: [1, 2, 3, 4, 5]\nEl numero mayor es:  5\nEl numero menor es:  1\n"
     ]
    }
   ],
   "source": [
    "lista=[]\n",
    "a=int(input(\"Ingresa la catida de lista: \"))\n",
    "for x in range(a):\n",
    "    valor = int(input(\"Ingresa el valor: \"))\n",
    "    lista.append(valor)\n",
    "mayor=lista[0]\n",
    "for x in range (1,a):\n",
    "    if lista[x]>mayor:\n",
    "        mayor=lista[x]\n",
    "menor=lista[0]\n",
    "for x in range (1,a):\n",
    "    if lista[x]<menor:\n",
    "        menor=lista[x]\n",
    "print(\"Numeros ingresados son:\",lista)\n",
    "print(\"El numero mayor es: \", mayor)\n",
    "print(\"El numero menor es: \",menor)\n"
   ]
  },
  {
   "source": [
    "EJE2 _Hacer un programa que pida dos número y almacene las cuatro operaciones matemáticas en una lista, debe hacer una función"
   ],
   "cell_type": "markdown",
   "metadata": {}
  },
  {
   "source": [
    "\n",
    "def suma():\n",
    "    rs=num1+num2\n",
    "    print(f\"la suma de {num1} + {num2} es: {rs}\")\n",
    "def resta():\n",
    "    rr=num1-num2\n",
    "    print(f\"la resta de {num1} - {num2} es: {rr}\")\n",
    "def multiplicacion():\n",
    "    mr=num1*num2\n",
    "    print(f\"la multiplicacion de {num1} * {num2} es: {mr}\")\n",
    "def division():\n",
    "    dr=num1/num2\n",
    "    print(f\"la divicion de {num1} / {num2} es: {dr}\")\n",
    "num1=int(input(\"Ingresa numero: \"))\n",
    "num2=int(input(\"Ingresa numero: \"))\n",
    "suma()\n",
    "resta()\n",
    "multiplicacion()\n",
    "division()"
   ],
   "cell_type": "code",
   "metadata": {},
   "execution_count": 24,
   "outputs": [
    {
     "output_type": "stream",
     "name": "stdout",
     "text": [
      "la suma de 5 + 5 es: 10\nla resta de 5 - 5 es: 0\nla multiplicacion de 5 * 5 es: 25\nla divicion de 5 / 5 es: 1.0\n"
     ]
    }
   ]
  },
  {
   "source": [
    "EJE3 \n",
    " Organizar una lista utilizando el método burbuja."
   ],
   "cell_type": "markdown",
   "metadata": {}
  },
  {
   "cell_type": "code",
   "execution_count": 38,
   "metadata": {},
   "outputs": [
    {
     "output_type": "stream",
     "name": "stdout",
     "text": [
      "[3, 4, 6, 8, 9]\n"
     ]
    }
   ],
   "source": [
    "lisburbuja=[]\n",
    "cantidad=int(input(\"ingresa la cantidad de lista: \"))\n",
    "for i in range (cantidad):\n",
    "    ele=int(input(\"ingresa elementos:\"))\n",
    "    lisburbuja.append(ele)\n",
    "band=False\n",
    "while band==False:\n",
    "    band=True\n",
    "    for y in range(len(lisburbuja)-1):\n",
    "        if lisburbuja[y] > lisburbuja[y+1]:\n",
    "            od=lisburbuja[y]\n",
    "            lisburbuja[y]=lisburbuja[y+1]\n",
    "            lisburbuja[y+1]=od\n",
    "            band=False\n",
    "print(lisburbuja)"
   ]
  },
  {
   "source": [
    "EJE4\n",
    "Realizar un programa que permita ingresar por teclado los nombres de 5 artículos y sus precios, definir para ellos las siguientes funciones.\n",
    "\n",
    "Cargar los nombres de los artículos y sus precios.\n",
    "\n",
    "Imprimir cada artículo con sus datos.\n",
    "\n",
    "Imprimir el nombre del artículo más caro.\n",
    "\n",
    "Solicitar la carga de un importe por teclado, mostrar después todos los artículos con un precio inferior al insertado.\n",
    "\n",
    "\n",
    "return [nom,precio] retornar dos listas \n",
    "nombre,precio=cargar()"
   ],
   "cell_type": "markdown",
   "metadata": {}
  },
  {
   "cell_type": "code",
   "execution_count": 43,
   "metadata": {},
   "outputs": [
    {
     "output_type": "stream",
     "name": "stdout",
     "text": [
      "Listado de produntos :\n",
      "Producto:sal Precio:200\n",
      "Producto:papa Precio:300\n",
      "Producto:arros Precio:400\n",
      "Producto:pasta Precio:700\n",
      "Producto:aji Precio:650\n",
      "El articilo de mayor precio es: pasta con 700\n",
      "Articulos inferiores a 500 son :\n",
      "Articulo: sal Precio: 200\n",
      "Articulos inferiores a 500 son :\n",
      "Articulo: papa Precio: 300\n",
      "Articulos inferiores a 500 son :\n",
      "Articulo: arros Precio: 400\n"
     ]
    }
   ],
   "source": [
    "\n",
    "def cargar():\n",
    "    lisarticulo=[]\n",
    "    lisprecio=[]\n",
    "    num_articulo=int(input(\"Ingresa cantidad de articulos: \"))\n",
    "    for num_art in range (num_articulo):\n",
    "        arti=input(\"Ingresa articulo: \")\n",
    "        lisarticulo.append(arti)\n",
    "        pre=int(input(\"Precio del producto: \"))\n",
    "        lisprecio.append(pre)\n",
    "    return[lisarticulo,lisprecio]\n",
    "def mostrar(lisarticulo,lisprecio):\n",
    "    print(\"Listado de produntos :\")\n",
    "    for i in range (len(lisarticulo)):\n",
    "        print(f\"Producto:{lisarticulo[i]} Precio:{lisprecio[i]}\")\n",
    "def precio_mayor(lisarticulo,lisprecio):\n",
    "    a=lisprecio[0]\n",
    "    b=0\n",
    "    for i in range (1,len(lisprecio)):\n",
    "        if lisprecio[i]>a:\n",
    "            a=lisprecio[i]\n",
    "            b=i\n",
    "    print(f\"El articilo de mayor precio es: {lisarticulo[b]} con {a}\")\n",
    "def consulta_precio(lisarticulo,lisprecio):\n",
    "    valor=int(input(\"Ingrese valor para ver articulos de volor inferior:\"))\n",
    "    for x in range (len(lisprecio)):\n",
    "        if lisprecio[x]<=valor:\n",
    "            print(f\"Articulos inferiores a {valor} son :\")\n",
    "            print(f\"Articulo: {lisarticulo[x]} Precio: {lisprecio[x]}\")\n",
    "\n",
    "lisarticulo,lisprecio=cargar()\n",
    "mostrar(lisarticulo,lisprecio)\n",
    "precio_mayor(lisarticulo,lisprecio)\n",
    "consulta_precio(lisarticulo,lisprecio)\n"
   ]
  },
  {
   "source": [
    "eje5 Realizar un programa que permita crear un diccionario inglés / castellano. La clave es la palabra en inglés y el valor es la palabra en castellano. Crear funciones para cargar el diccionario, listar el diccionario. Crear una tercera función que solicite la carga por teclado de una palabra en inglés, mostrar después el valor en castellano si este existe."
   ],
   "cell_type": "markdown",
   "metadata": {}
  },
  {
   "cell_type": "code",
   "execution_count": 22,
   "metadata": {},
   "outputs": [
    {
     "output_type": "stream",
     "name": "stdout",
     "text": [
      "hello = hola\n",
      "dog = perro\n",
      "cat = gato\n",
      "la palabra no esta: \n"
     ]
    }
   ],
   "source": [
    "\n",
    "def crear_diccionario ():\n",
    "    dict={}\n",
    "    palabra=int(input(\"numero de palabras a ingrsar: \"))\n",
    "    for i in range (palabra):\n",
    "        clave=str(input(\"ingresa palabra en ingles: \"))\n",
    "        valor=str(input(\"ingresa parabla en  español: \"))\n",
    "        dict[clave]=valor\n",
    "    return dict\n",
    "def listar(dict):\n",
    "    for i in dict:\n",
    "        print(f\"{i} = {dict[i]}\")\n",
    "def carga_por_teclado (dict):\n",
    "    b=0\n",
    "    a=str(input(\"ingresa palabra en ingles a buscar: \"))\n",
    "    for clave in dict:\n",
    "        if clave==a:\n",
    "            b=1\n",
    "            print(f\"la palabra {a} si esta\")\n",
    "            print(f\"{a}={dict[clave]}\")\n",
    "    if (b==0):\n",
    "        print(\"la palabra no esta: \")\n",
    "    else:\n",
    "        print(\" la palbra si enta: \")\n",
    "        \n",
    "            \n",
    "dict=crear_diccionario()\n",
    "listar(dict)\n",
    "carga_por_teclado(dict)"
   ]
  },
  {
   "source": [
    "EJE6\n",
    "Realizar un programa que permita cargar un código de producto como clave en un diccionario. Guardar para esta clave el nombre del producto, el precio y el total disponible en stock. Después de ingresar un producto, preguntar si se desea cargar otro, el límite de productos lo dispondrá el usuario. Mostrar el listado de productos, una tercera para consultar un producto mediante su clave y otra para mostrar el listado de productos con stock 0"
   ],
   "cell_type": "markdown",
   "metadata": {}
  },
  {
   "cell_type": "code",
   "execution_count": 11,
   "metadata": {},
   "outputs": [
    {
     "output_type": "stream",
     "name": "stdout",
     "text": [
      "Listado completo de productos: \n",
      "1 papa 200 3\n",
      "3 aji 300 0\n",
      "5 arros 300 4\n",
      "aji 300 0\n",
      "Listado de prodoctos con estock en cero: \n",
      "3 aji 300 0\n"
     ]
    }
   ],
   "source": [
    "def cargar():\n",
    "    producto={}\n",
    "    continuar=\"s\"\n",
    "    while continuar==\"s\":\n",
    "        codigo=int(input(\"Ingresa codigo de producto: \"))\n",
    "        descriccion=input(\"Ingresa descriccion: \")\n",
    "        precio=int(input(\"Ingresa precio:\"))\n",
    "        stock=int(input(\"Ingrese estado actual: \"))\n",
    "        producto[codigo]=(descriccion,precio,stock)\n",
    "        continuar=input(\"Desea cargar otra producto s/n: \")\n",
    "    return producto\n",
    "def imprimir(producto):\n",
    "    print(\"Listado completo de productos: \")\n",
    "    for codigo in producto:\n",
    "        print(codigo,producto[codigo] [0] ,producto[codigo] [1] ,producto[codigo] [2])\n",
    "def consulta(producto):\n",
    "    codigo=int(input(\"Ingrese codigo del alticulo a consultas: \"))\n",
    "    if codigo in producto:\n",
    "        print(producto [codigo] [0],producto [codigo] [1] ,producto [codigo] [2])\n",
    "def listado_stock_cero(producto):\n",
    "    print(\"Listado de prodoctos con estock en cero: \")\n",
    "    for codigo in producto:\n",
    "        if producto[codigo][2]==0:\n",
    "            print(codigo, producto [codigo] [0],producto [codigo] [1] ,producto [codigo] [2])\n",
    "producto=cargar()\n",
    "imprimir(producto)\n",
    "consulta(producto)\n",
    "listado_stock_cero(producto)"
   ]
  },
  {
   "cell_type": "code",
   "execution_count": null,
   "metadata": {},
   "outputs": [],
   "source": []
  }
 ]
}