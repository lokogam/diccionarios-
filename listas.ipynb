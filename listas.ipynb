{
 "metadata": {
  "language_info": {
   "codemirror_mode": {
    "name": "ipython",
    "version": 3
   },
   "file_extension": ".py",
   "mimetype": "text/x-python",
   "name": "python",
   "nbconvert_exporter": "python",
   "pygments_lexer": "ipython3",
   "version": "3.8.5-final"
  },
  "orig_nbformat": 2,
  "kernelspec": {
   "name": "python3",
   "display_name": "Python 3",
   "language": "python"
  }
 },
 "nbformat": 4,
 "nbformat_minor": 2,
 "cells": [
  {
   "source": [
    "ESTE ARCHIVO ES CREADO POR DUVAN GAMBOA\n"
   ],
   "cell_type": "markdown",
   "metadata": {}
  },
  {
   "source": [
    "EJE1\n",
    " Hallar el mayor y menor en una lista de tamaño n.\n",
    "\n"
   ],
   "cell_type": "markdown",
   "metadata": {}
  },
  {
   "cell_type": "code",
   "execution_count": 5,
   "metadata": {},
   "outputs": [
    {
     "output_type": "stream",
     "name": "stdout",
     "text": [
      "Numeros ingresados son: [1, 2, 3, 4, 5]\nEl numero mayor es:  5\nEl numero menor es:  1\n"
     ]
    }
   ],
   "source": [
    "lista=[]\n",
    "a=int(input(\"Ingresa la catida de lista: \"))\n",
    "for x in range(a):\n",
    "    valor = int(input(\"Ingresa el valor: \"))\n",
    "    lista.append(valor)\n",
    "mayor=lista[0]\n",
    "for x in range (1,a):\n",
    "    if lista[x]>mayor:\n",
    "        mayor=lista[x]\n",
    "menor=lista[0]\n",
    "for x in range (1,a):\n",
    "    if lista[x]<menor:\n",
    "        menor=lista[x]\n",
    "print(\"Numeros ingresados son:\",lista)\n",
    "print(\"El numero mayor es: \", mayor)\n",
    "print(\"El numero menor es: \",menor)\n"
   ]
  },
  {
   "source": [
    "EJE2 _Hacer un programa que pida dos número y almacene las cuatro operaciones matemáticas en una lista, debe hacer una función"
   ],
   "cell_type": "markdown",
   "metadata": {}
  },
  {
   "source": [
    "\n",
    "def suma():\n",
    "    rs=num1+num2\n",
    "    print(f\"la suma de {num1} + {num2} es: {rs}\")\n",
    "def resta():\n",
    "    rr=num1-num2\n",
    "    print(f\"la resta de {num1} - {num2} es: {rr}\")\n",
    "def multiplicacion():\n",
    "    mr=num1*num2\n",
    "    print(f\"la multiplicacion de {num1} * {num2} es: {mr}\")\n",
    "def division():\n",
    "    dr=num1/num2\n",
    "    print(f\"la divicion de {num1} / {num2} es: {dr}\")\n",
    "num1=int(input(\"Ingresa numero: \"))\n",
    "num2=int(input(\"Ingresa numero: \"))\n",
    "suma()\n",
    "resta()\n",
    "multiplicacion()\n",
    "division()"
   ],
   "cell_type": "code",
   "metadata": {},
   "execution_count": 24,
   "outputs": [
    {
     "output_type": "stream",
     "name": "stdout",
     "text": [
      "la suma de 5 + 5 es: 10\nla resta de 5 - 5 es: 0\nla multiplicacion de 5 * 5 es: 25\nla divicion de 5 / 5 es: 1.0\n"
     ]
    }
   ]
  },
  {
   "source": [
    "EJE3 \n",
    " Organizar una lista utilizando el método burbuja."
   ],
   "cell_type": "markdown",
   "metadata": {}
  },
  {
   "cell_type": "code",
   "execution_count": 38,
   "metadata": {},
   "outputs": [
    {
     "output_type": "stream",
     "name": "stdout",
     "text": [
      "[3, 4, 6, 8, 9]\n"
     ]
    }
   ],
   "source": [
    "lisburbuja=[]\n",
    "cantidad=int(input(\"ingresa la cantidad de lista: \"))\n",
    "for i in range (cantidad):\n",
    "    ele=int(input(\"ingresa elementos:\"))\n",
    "    lisburbuja.append(ele)\n",
    "band=False\n",
    "while band==False:\n",
    "    band=True\n",
    "    for y in range(len(lisburbuja)-1):\n",
    "        if lisburbuja[y] > lisburbuja[y+1]:\n",
    "            od=lisburbuja[y]\n",
    "            lisburbuja[y]=lisburbuja[y+1]\n",
    "            lisburbuja[y+1]=od\n",
    "            band=False\n",
    "print(lisburbuja)"
   ]
  },
  {
   "source": [
    "EJE4\n",
    "Realizar un programa que permita ingresar por teclado los nombres de 5 artículos y sus precios, definir para ellos las siguientes funciones.\n",
    "\n",
    "Cargar los nombres de los artículos y sus precios.\n",
    "\n",
    "Imprimir cada artículo con sus datos.\n",
    "\n",
    "Imprimir el nombre del artículo más caro.\n",
    "\n",
    "Solicitar la carga de un importe por teclado, mostrar después todos los artículos con un precio inferior al insertado.\n",
    "\n",
    "\n",
    "return [nom,precio] retornar dos listas \n",
    "nombre,precio=cargar()"
   ],
   "cell_type": "markdown",
   "metadata": {}
  },
  {
   "cell_type": "code",
   "execution_count": 74,
   "metadata": {},
   "outputs": [
    {
     "output_type": "stream",
     "name": "stdout",
     "text": [
      "listado de produntos :\nproducto:sal precio:400\nproducto:aji precio:400\n"
     ]
    }
   ],
   "source": [
    "lisarticulo=[]\n",
    "lisprecio=[]\n",
    "def cargar():\n",
    "    num_articulo=int(input(\"ingresa cantidad de articulos: \"))\n",
    "    for num_art in range (num_articulo):\n",
    "        arti=input(\"ingresa articulo: \")\n",
    "        lisarticulo.append(arti)\n",
    "        pre=int(input(\"precio del producto: \"))\n",
    "        lisprecio.append(pre)\n",
    "    return[lisarticulo,lisprecio]\n",
    "def mostrar():\n",
    "    print(\"listado de produntos :\")\n",
    "    for uno in range (len(lisarticulo)):\n",
    "        print(f\"producto:{lisarticulo[uno]} precio:{lisprecio[uno]}\")\n",
    "\n",
    "cargar()\n",
    "mostrar()\n",
    "\n"
   ]
  },
  {
   "cell_type": "code",
   "execution_count": null,
   "metadata": {},
   "outputs": [],
   "source": []
  }
 ]
}